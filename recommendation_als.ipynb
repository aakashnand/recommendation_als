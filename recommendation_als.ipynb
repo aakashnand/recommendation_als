{
 "cells": [
  {
   "cell_type": "markdown",
   "metadata": {},
   "source": [
    "* Recommendation System using Alternating Least Square algorithm with Pyspark\n",
    "\n",
    "Courtesy: https://github.com/KevinLiao159/MyDataSciencePortfolio/blob/master/movie_recommender/movie_recommendation_using_ALS.ipynb\n",
    "\n",
    "Blog Post: https://towardsdatascience.com/prototyping-a-recommender-system-step-by-step-part-2-alternating-least-square-als-matrix-4a76c58714a1\n",
    "\n",
    "\n",
    "## Imports"
   ]
  },
  {
   "cell_type": "code",
   "execution_count": 47,
   "metadata": {},
   "outputs": [],
   "source": [
    "import os\n",
    "import time\n",
    "from IPython.core.display import display, HTML\n",
    "import findspark\n",
    "findspark.init()\n",
    "# spark imports\n",
    "from pyspark.sql import SparkSession\n",
    "from pyspark.ml.evaluation import RegressionEvaluator\n",
    "from pyspark.ml.tuning import ParamGridBuilder, CrossValidator\n",
    "from pyspark.sql.types import StringType, ArrayType\n",
    "from pyspark.ml.recommendation import ALS\n",
    "from pyspark import SQLContext\n",
    "from IPython.display import Image\n",
    "# data science imports\n",
    "import requests, json\n",
    "import numpy as np\n",
    "import pandas as pd\n",
    "\n",
    "# visualization imports\n",
    "import seaborn as sns\n",
    "import matplotlib.pyplot as plt\n",
    "\n",
    "\n",
    "%matplotlib inline"
   ]
  },
  {
   "cell_type": "markdown",
   "metadata": {},
   "source": [
    "## Create Spark Session"
   ]
  },
  {
   "cell_type": "code",
   "execution_count": 2,
   "metadata": {},
   "outputs": [],
   "source": [
    "# Create Spark Session\n",
    "spark=SparkSession.builder.appName(\"ALS_Movie_Recommendor\")\\\n",
    "                          .config(\"spark.executor.memory\", \"16g\") \\\n",
    "                          .config(\"spark.master\", \"local[*]\") \\\n",
    "                          .getOrCreate()\n",
    "# get the spark context\n",
    "sc=spark.sparkContext\n",
    "sc.setCheckpointDir('checkpoint')"
   ]
  },
  {
   "cell_type": "markdown",
   "metadata": {},
   "source": [
    "## Read the data as RDD"
   ]
  },
  {
   "cell_type": "code",
   "execution_count": 3,
   "metadata": {},
   "outputs": [],
   "source": [
    "data_path=os.path.abspath(\"./small-data/\")\n",
    "movies=spark.read.load(os.path.join(data_path,\"movies.csv\"),format='csv', header=True, inferSchema=True)\n",
    "ratings=spark.read.load(os.path.join(data_path,\"ratings.csv\"),format='csv', header=True, inferSchema=True)\n",
    "links=spark.read.load(os.path.join(data_path,\"links.csv\"),format='csv', header=True, inferSchema=True)\n",
    "tags=spark.read.load(os.path.join(data_path,\"tags.csv\"),format='csv', header=True, inferSchema=True)"
   ]
  },
  {
   "cell_type": "markdown",
   "metadata": {},
   "source": [
    "##  Peek into data"
   ]
  },
  {
   "cell_type": "code",
   "execution_count": 107,
   "metadata": {},
   "outputs": [
    {
     "data": {
      "text/html": [
       "<h3>Movies</h3>"
      ],
      "text/plain": [
       "<IPython.core.display.HTML object>"
      ]
     },
     "metadata": {},
     "output_type": "display_data"
    },
    {
     "name": "stdout",
     "output_type": "stream",
     "text": [
      "+-------+--------------------+--------------------+\n",
      "|movieId|               title|              genres|\n",
      "+-------+--------------------+--------------------+\n",
      "|      1|    Toy Story (1995)|Adventure|Animati...|\n",
      "|      2|      Jumanji (1995)|Adventure|Childre...|\n",
      "|      3|Grumpier Old Men ...|      Comedy|Romance|\n",
      "+-------+--------------------+--------------------+\n",
      "only showing top 3 rows\n",
      "\n"
     ]
    },
    {
     "data": {
      "text/html": [
       "<h3>Ratings</h3>"
      ],
      "text/plain": [
       "<IPython.core.display.HTML object>"
      ]
     },
     "metadata": {},
     "output_type": "display_data"
    },
    {
     "name": "stdout",
     "output_type": "stream",
     "text": [
      "+------+-------+------+---------+\n",
      "|userId|movieId|rating|timestamp|\n",
      "+------+-------+------+---------+\n",
      "|     1|      1|   4.0|964982703|\n",
      "|     1|      3|   4.0|964981247|\n",
      "|     1|      6|   4.0|964982224|\n",
      "+------+-------+------+---------+\n",
      "only showing top 3 rows\n",
      "\n"
     ]
    },
    {
     "data": {
      "text/html": [
       "<h3>Links</h3>"
      ],
      "text/plain": [
       "<IPython.core.display.HTML object>"
      ]
     },
     "metadata": {},
     "output_type": "display_data"
    },
    {
     "name": "stdout",
     "output_type": "stream",
     "text": [
      "+-------+------+------+\n",
      "|movieId|imdbId|tmdbId|\n",
      "+-------+------+------+\n",
      "|      1|114709|   862|\n",
      "|      2|113497|  8844|\n",
      "|      3|113228| 15602|\n",
      "+-------+------+------+\n",
      "only showing top 3 rows\n",
      "\n"
     ]
    },
    {
     "data": {
      "text/html": [
       "<h3>Tags</h3>"
      ],
      "text/plain": [
       "<IPython.core.display.HTML object>"
      ]
     },
     "metadata": {},
     "output_type": "display_data"
    },
    {
     "name": "stdout",
     "output_type": "stream",
     "text": [
      "+------+-------+---------------+----------+\n",
      "|userId|movieId|            tag| timestamp|\n",
      "+------+-------+---------------+----------+\n",
      "|     2|  60756|          funny|1445714994|\n",
      "|     2|  60756|Highly quotable|1445714996|\n",
      "|     2|  60756|   will ferrell|1445714992|\n",
      "+------+-------+---------------+----------+\n",
      "only showing top 3 rows\n",
      "\n"
     ]
    }
   ],
   "source": [
    "display(HTML(\"<h3>Movies</h3>\"))\n",
    "movies.show(3)\n",
    "display(HTML(\"<h3>Ratings</h3>\"))\n",
    "ratings.show(3)\n",
    "display(HTML(\"<h3>Links</h3>\"))\n",
    "links.show(3)\n",
    "display(HTML(\"<h3>Tags</h3>\"))\n",
    "tags.show(3)\n"
   ]
  },
  {
   "cell_type": "markdown",
   "metadata": {},
   "source": [
    "## Sparsity of ratings matrix"
   ]
  },
  {
   "cell_type": "markdown",
   "metadata": {},
   "source": [
    "\\begin{align*}\n",
    "\\text{Sparsity}&=1-\\frac{\\text{Actual number of ratings in matrix}}{\\text{(Number of Users) x (Number of Ratings)}}\n",
    "\\end{align*}"
   ]
  },
  {
   "cell_type": "code",
   "execution_count": 108,
   "metadata": {},
   "outputs": [
    {
     "name": "stdout",
     "output_type": "stream",
     "text": [
      "0.9830003169443864\n"
     ]
    }
   ],
   "source": [
    "numerator=ratings.count()\n",
    "distinct_users=ratings.select('userId').distinct().count()\n",
    "distinct_movies=ratings.select('movieId').distinct().count()\n",
    "denominator=distinct_users*distinct_movies\n",
    "\n",
    "sparsity=1-(numerator*1.0/denominator)\n",
    "\n",
    "print(sparsity)"
   ]
  },
  {
   "cell_type": "markdown",
   "metadata": {},
   "source": [
    "## Splitting data"
   ]
  },
  {
   "cell_type": "code",
   "execution_count": 6,
   "metadata": {},
   "outputs": [],
   "source": [
    "# converting RDD to pyspark.sql.dataframe.DataFrame\n",
    "test=ratings.toDF(*ratings.columns)\n",
    "\n",
    "(train, test) = ratings.randomSplit([0.8, 0.2], seed = 1234)"
   ]
  },
  {
   "cell_type": "markdown",
   "metadata": {},
   "source": [
    "## Creating ALS model"
   ]
  },
  {
   "cell_type": "code",
   "execution_count": 7,
   "metadata": {},
   "outputs": [
    {
     "name": "stdout",
     "output_type": "stream",
     "text": [
      "Num models to be tested:  27\n",
      "--- 560.3325228691101 seconds ---\n"
     ]
    }
   ],
   "source": [
    "import time\n",
    "start_time=time.time()\n",
    "\n",
    "als = ALS(userCol=\"userId\", itemCol=\"movieId\", ratingCol=\"rating\", nonnegative = True, coldStartStrategy=\"drop\")\n",
    "# Add hyperparameters and their respective values to param_grid\n",
    "param_grid = ParamGridBuilder() \\\n",
    "            .addGrid(als.rank, [12,13,14]  ) \\\n",
    "            .addGrid(als.maxIter, [18,19,20]) \\\n",
    "            .addGrid(als.regParam, [.17, .18, .19]) \\\n",
    "            .build()\n",
    "\n",
    "evaluator = RegressionEvaluator(metricName=\"rmse\", labelCol=\"rating\", predictionCol=\"prediction\") \n",
    "print (\"Num models to be tested: \", len(param_grid))\n",
    "\n",
    "cv = CrossValidator(estimator=als, estimatorParamMaps=param_grid, evaluator=evaluator, numFolds=3)\n",
    "\n",
    "train.checkpoint()\n",
    "\n",
    "models=cv.fit(train)\n",
    "best_model=models.bestModel\n",
    "\n",
    "print(\"--- %s seconds ---\" % (time.time() - start_time))"
   ]
  },
  {
   "cell_type": "markdown",
   "metadata": {},
   "source": [
    "## Best Model\n"
   ]
  },
  {
   "cell_type": "code",
   "execution_count": 8,
   "metadata": {},
   "outputs": [
    {
     "name": "stdout",
     "output_type": "stream",
     "text": [
      "14\n",
      "**Best Model**\n",
      "  Rank: 14\n",
      "  MaxIter: 18\n",
      "  RegParam: 0.17\n"
     ]
    }
   ],
   "source": [
    "# Print best_model\n",
    "#print(best_model)\n",
    "print(best_model._java_obj.parent().getRank())\n",
    "\n",
    "# Complete the code below to extract the ALS model parameters\n",
    "print(\"**Best Model**\")\n",
    "\n",
    "\n",
    "# Print \"Rank\"\n",
    "print(\"  Rank:\", best_model._java_obj.parent().getRank())\n",
    "\n",
    "# Print \"MaxIter\"\n",
    "print(\"  MaxIter:\", best_model._java_obj.parent().getMaxIter())\n",
    "\n",
    "# Print \"RegParam\"\n",
    "print(\"  RegParam:\", best_model._java_obj.parent().getRegParam())"
   ]
  },
  {
   "cell_type": "markdown",
   "metadata": {},
   "source": [
    "## Predictions"
   ]
  },
  {
   "cell_type": "code",
   "execution_count": 9,
   "metadata": {},
   "outputs": [
    {
     "name": "stdout",
     "output_type": "stream",
     "text": [
      "0.867480767564069\n"
     ]
    }
   ],
   "source": [
    "predictions=best_model.transform(test)\n",
    "predictions=predictions.na.fill(0)\n",
    "rmse=evaluator.evaluate(predictions)\n",
    "print(rmse)\n"
   ]
  },
  {
   "cell_type": "markdown",
   "metadata": {},
   "source": [
    "## Get Predictions for all users"
   ]
  },
  {
   "cell_type": "code",
   "execution_count": 22,
   "metadata": {},
   "outputs": [],
   "source": [
    "sqlContext=SQLContext(sc)\n",
    "recommendations=best_model.recommendForAllUsers(15)\n",
    "def get_recommendation_for_user(recs):\n",
    "    recs=recs.select(\"recommendations.movieId\",\"recommendations.rating\")\n",
    "    movies=recs.select(\"movieId\").toPandas().iloc[0,0]\n",
    "    ratings=recs.select(\"rating\").toPandas().iloc[0,0]\n",
    "    ratings_matrix=pd.DataFrame(movies,columns=[\"movieId\"])\n",
    "    ratings_matrix[\"ratings\"]=ratings\n",
    "    rating_matrix_ps=sqlContext.createDataFrame(ratings_matrix)\n",
    "    return rating_matrix_ps"
   ]
  },
  {
   "cell_type": "markdown",
   "metadata": {},
   "source": [
    "## Check predictions and Actual values for top 15 movies of user 101"
   ]
  },
  {
   "cell_type": "code",
   "execution_count": 104,
   "metadata": {},
   "outputs": [
    {
     "data": {
      "text/html": [
       "<h3>Actual Ratings for user 101 </h3>"
      ],
      "text/plain": [
       "<IPython.core.display.HTML object>"
      ]
     },
     "metadata": {},
     "output_type": "display_data"
    },
    {
     "name": "stdout",
     "output_type": "stream",
     "text": [
      "+-------+------+--------------------+--------------------+\n",
      "|movieId|rating|               title|              genres|\n",
      "+-------+------+--------------------+--------------------+\n",
      "|    595|   5.0|Beauty and the Be...|Animation|Childre...|\n",
      "|    357|   5.0|Four Weddings and...|      Comedy|Romance|\n",
      "|    745|   5.0|Wallace & Gromit:...|Animation|Childre...|\n",
      "|   1148|   5.0|Wallace & Gromit:...|Animation|Childre...|\n",
      "|   2572|   5.0|10 Things I Hate ...|      Comedy|Romance|\n",
      "|   2671|   5.0| Notting Hill (1999)|      Comedy|Romance|\n",
      "|   4308|   5.0| Moulin Rouge (2001)|Drama|Musical|Rom...|\n",
      "|   4973|   5.0|Amelie (Fabuleux ...|      Comedy|Romance|\n",
      "|   5991|   5.0|      Chicago (2002)|Comedy|Crime|Dram...|\n",
      "|   7034|   5.0|Show Me Love (Fuc...|       Drama|Romance|\n",
      "|  38038|   5.0|Wallace & Gromit ...|Adventure|Animati...|\n",
      "|   4306|   4.5|        Shrek (2001)|Adventure|Animati...|\n",
      "|   1380|   4.5|       Grease (1978)|Comedy|Musical|Ro...|\n",
      "|    471|   4.5|Hudsucker Proxy, ...|              Comedy|\n",
      "|  30793|   4.5|Charlie and the C...|Adventure|Childre...|\n",
      "+-------+------+--------------------+--------------------+\n",
      "\n"
     ]
    },
    {
     "data": {
      "text/html": [
       "<h3>Suggestions for user 101 </h3>"
      ],
      "text/plain": [
       "<IPython.core.display.HTML object>"
      ]
     },
     "metadata": {},
     "output_type": "display_data"
    },
    {
     "name": "stdout",
     "output_type": "stream",
     "text": [
      "+-------+------------------+--------------------+--------------------+\n",
      "|movieId|           ratings|               title|              genres|\n",
      "+-------+------------------+--------------------+--------------------+\n",
      "|  93008| 4.787635803222656|Very Potter Seque...|      Comedy|Musical|\n",
      "|  25906| 4.787635803222656|Mr. Skeffington (...|       Drama|Romance|\n",
      "|  77846| 4.787635803222656| 12 Angry Men (1997)|         Crime|Drama|\n",
      "|   7121|4.6906328201293945|   Adam's Rib (1949)|      Comedy|Romance|\n",
      "|   6201|4.6877946853637695|    Lady Jane (1986)|       Drama|Romance|\n",
      "|   4495|4.6877946853637695|Crossing Delancey...|      Comedy|Romance|\n",
      "|    945| 4.547955513000488|      Top Hat (1935)|Comedy|Musical|Ro...|\n",
      "|  74282| 4.511919975280762|Anne of Green Gab...|Children|Drama|Ro...|\n",
      "|   3379|4.5118818283081055| On the Beach (1959)|               Drama|\n",
      "|  87234| 4.507846832275391|    Submarine (2010)|Comedy|Drama|Romance|\n",
      "|  93988| 4.494832515716553|North & South (2004)|       Drama|Romance|\n",
      "|   8235| 4.491663932800293| Safety Last! (1923)|Action|Comedy|Rom...|\n",
      "|   3086| 4.489398002624512|Babes in Toyland ...|Children|Comedy|F...|\n",
      "|   1046| 4.443519592285156|Beautiful Thing (...|       Drama|Romance|\n",
      "|   3451| 4.418937683105469|Guess Who's Comin...|               Drama|\n",
      "+-------+------------------+--------------------+--------------------+\n",
      "\n"
     ]
    }
   ],
   "source": [
    "display(HTML(\"<h3>Actual Ratings for user 101 </h3>\"))\n",
    "actuals=movies.join(ratings,[\"movieId\"],\"left\").filter(ratings.userId==104).sort(\"rating\",ascending=False).select(\"movieId\",\"rating\",\"title\",\"genres\").limit(15)\n",
    "actuals.show()\n",
    "\n",
    "display(HTML(\"<h3>Suggestions for user 101 </h3>\"))\n",
    "recos=get_recommendation_for_user(recommendations.filter(recommendations.userId==104)).sort(\"ratings\",ascending=False)\n",
    "recos.join(movies,[\"movieId\"],\"left\").show()"
   ]
  },
  {
   "cell_type": "markdown",
   "metadata": {},
   "source": [
    "## Posters"
   ]
  },
  {
   "cell_type": "code",
   "execution_count": 105,
   "metadata": {},
   "outputs": [],
   "source": [
    "actuals=actuals.join(links,[\"movieId\"],\"left\")\n",
    "recos=recos.join(links,[\"movieId\"],\"left\")"
   ]
  },
  {
   "cell_type": "code",
   "execution_count": 98,
   "metadata": {},
   "outputs": [],
   "source": [
    "def print_posters(user_movies):\n",
    "    imagesList=\"\"\n",
    "    for movie in user_movies.collect():\n",
    "        params={'i':\"tt\"+str(movie.imdbId),'apiKey':'a13a6d6c'}\n",
    "        response=requests.get(url=\"http://www.omdbapi.com/\",params=params)\n",
    "        json_data = json.loads(response.text)\n",
    "        #print(json_data[\"Response\"])\n",
    "        if json_data['Response']!=\"False\":\n",
    "            #plt.figure()\n",
    "            #img=Image(url=json_data['Poster'],width=150,height=225)\n",
    "            imagesList+=\"<img style='width: 150px; height: 225px; margin: 5px; float: left; border: 1px solid black;' src='{}' />\".format(json_data['Poster'])\n",
    "    display(HTML(imagesList))"
   ]
  },
  {
   "cell_type": "code",
   "execution_count": 106,
   "metadata": {},
   "outputs": [
    {
     "data": {
      "text/html": [],
      "text/plain": [
       "<IPython.core.display.HTML object>"
      ]
     },
     "metadata": {},
     "output_type": "display_data"
    },
    {
     "data": {
      "text/html": [
       "<img style='width: 150px; height: 225px; margin: 5px; float: left; border: 1px solid black;' src='https://m.media-amazon.com/images/M/MV5BNjQ4ODI3MTEtNTYzMC00OTc4LThlODctOWNhMmI0ZmZhMDA1XkEyXkFqcGdeQXVyNjA3MzA0MzA@._V1_SX300.jpg' /><img style='width: 150px; height: 225px; margin: 5px; float: left; border: 1px solid black;' src='https://m.media-amazon.com/images/M/MV5BMTQ5ODMxNTIyNV5BMl5BanBnXkFtZTcwNjQ1ODgyNQ@@._V1_SX300.jpg' />"
      ],
      "text/plain": [
       "<IPython.core.display.HTML object>"
      ]
     },
     "metadata": {},
     "output_type": "display_data"
    }
   ],
   "source": [
    "print_posters(actuals)\n",
    "print_posters(recos)"
   ]
  },
  {
   "cell_type": "code",
   "execution_count": null,
   "metadata": {},
   "outputs": [],
   "source": []
  }
 ],
 "metadata": {
  "kernelspec": {
   "display_name": "Python 3",
   "language": "python",
   "name": "python3"
  },
  "language_info": {
   "codemirror_mode": {
    "name": "ipython",
    "version": 3
   },
   "file_extension": ".py",
   "mimetype": "text/x-python",
   "name": "python",
   "nbconvert_exporter": "python",
   "pygments_lexer": "ipython3",
   "version": "3.6.6"
  },
  "toc": {
   "base_numbering": 1,
   "nav_menu": {},
   "number_sections": true,
   "sideBar": true,
   "skip_h1_title": false,
   "title_cell": "Table of Contents",
   "title_sidebar": "Contents",
   "toc_cell": false,
   "toc_position": {},
   "toc_section_display": true,
   "toc_window_display": true
  }
 },
 "nbformat": 4,
 "nbformat_minor": 2
}
