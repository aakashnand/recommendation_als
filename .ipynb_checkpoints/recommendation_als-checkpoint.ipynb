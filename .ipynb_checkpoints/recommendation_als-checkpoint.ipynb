{
 "cells": [
  {
   "cell_type": "markdown",
   "metadata": {},
   "source": [
    "* Recommendation System using Alternating Least Square algorithm with Pyspark\n",
    "\n",
    "Courtesy: https://github.com/KevinLiao159/MyDataSciencePortfolio/blob/master/movie_recommender/movie_recommendation_using_ALS.ipynb\n",
    "\n",
    "Blog Post: https://towardsdatascience.com/prototyping-a-recommender-system-step-by-step-part-2-alternating-least-square-als-matrix-4a76c58714a1\n",
    "\n",
    "\n",
    "## Imports"
   ]
  },
  {
   "cell_type": "code",
   "execution_count": 47,
   "metadata": {},
   "outputs": [],
   "source": [
    "import os\n",
    "import time\n",
    "from IPython.core.display import display, HTML\n",
    "import findspark\n",
    "findspark.init()\n",
    "# spark imports\n",
    "from pyspark.sql import SparkSession\n",
    "from pyspark.ml.evaluation import RegressionEvaluator\n",
    "from pyspark.ml.tuning import ParamGridBuilder, CrossValidator\n",
    "from pyspark.sql.types import StringType, ArrayType\n",
    "from pyspark.ml.recommendation import ALS\n",
    "from pyspark import SQLContext\n",
    "from IPython.display import Image\n",
    "# data science imports\n",
    "import requests, json\n",
    "import numpy as np\n",
    "import pandas as pd\n",
    "\n",
    "# visualization imports\n",
    "import seaborn as sns\n",
    "import matplotlib.pyplot as plt\n",
    "\n",
    "\n",
    "%matplotlib inline"
   ]
  },
  {
   "cell_type": "markdown",
   "metadata": {},
   "source": [
    "## Create Spark Session"
   ]
  },
  {
   "cell_type": "code",
   "execution_count": 2,
   "metadata": {},
   "outputs": [],
   "source": [
    "# Create Spark Session\n",
    "spark=SparkSession.builder.appName(\"ALS_Movie_Recommendor\")\\\n",
    "                          .config(\"spark.executor.memory\", \"16g\") \\\n",
    "                          .config(\"spark.master\", \"local[*]\") \\\n",
    "                          .getOrCreate()\n",
    "# get the spark context\n",
    "sc=spark.sparkContext\n",
    "sc.setCheckpointDir('checkpoint')"
   ]
  },
  {
   "cell_type": "markdown",
   "metadata": {},
   "source": [
    "## Read the data as RDD"
   ]
  },
  {
   "cell_type": "code",
   "execution_count": 3,
   "metadata": {},
   "outputs": [],
   "source": [
    "data_path=os.path.abspath(\"./small-data/\")\n",
    "movies=spark.read.load(os.path.join(data_path,\"movies.csv\"),format='csv', header=True, inferSchema=True)\n",
    "ratings=spark.read.load(os.path.join(data_path,\"ratings.csv\"),format='csv', header=True, inferSchema=True)\n",
    "links=spark.read.load(os.path.join(data_path,\"links.csv\"),format='csv', header=True, inferSchema=True)\n",
    "tags=spark.read.load(os.path.join(data_path,\"tags.csv\"),format='csv', header=True, inferSchema=True)"
   ]
  },
  {
   "cell_type": "markdown",
   "metadata": {},
   "source": [
    "##  Peek into data"
   ]
  },
  {
   "cell_type": "code",
   "execution_count": 4,
   "metadata": {},
   "outputs": [
    {
     "data": {
      "text/html": [
       "<h3>Movies</h3>"
      ],
      "text/plain": [
       "<IPython.core.display.HTML object>"
      ]
     },
     "metadata": {},
     "output_type": "display_data"
    },
    {
     "name": "stdout",
     "output_type": "stream",
     "text": [
      "+-------+--------------------+--------------------+\n",
      "|movieId|               title|              genres|\n",
      "+-------+--------------------+--------------------+\n",
      "|      1|    Toy Story (1995)|Adventure|Animati...|\n",
      "|      2|      Jumanji (1995)|Adventure|Childre...|\n",
      "|      3|Grumpier Old Men ...|      Comedy|Romance|\n",
      "+-------+--------------------+--------------------+\n",
      "only showing top 3 rows\n",
      "\n"
     ]
    },
    {
     "data": {
      "text/html": [
       "<h3>Ratings</h3>"
      ],
      "text/plain": [
       "<IPython.core.display.HTML object>"
      ]
     },
     "metadata": {},
     "output_type": "display_data"
    },
    {
     "name": "stdout",
     "output_type": "stream",
     "text": [
      "+------+-------+------+---------+\n",
      "|userId|movieId|rating|timestamp|\n",
      "+------+-------+------+---------+\n",
      "|     1|      1|   4.0|964982703|\n",
      "|     1|      3|   4.0|964981247|\n",
      "|     1|      6|   4.0|964982224|\n",
      "+------+-------+------+---------+\n",
      "only showing top 3 rows\n",
      "\n"
     ]
    },
    {
     "data": {
      "text/html": [
       "<h3>Links</h3>"
      ],
      "text/plain": [
       "<IPython.core.display.HTML object>"
      ]
     },
     "metadata": {},
     "output_type": "display_data"
    },
    {
     "name": "stdout",
     "output_type": "stream",
     "text": [
      "+-------+------+------+\n",
      "|movieId|imdbId|tmdbId|\n",
      "+-------+------+------+\n",
      "|      1|114709|   862|\n",
      "|      2|113497|  8844|\n",
      "|      3|113228| 15602|\n",
      "+-------+------+------+\n",
      "only showing top 3 rows\n",
      "\n"
     ]
    },
    {
     "data": {
      "text/html": [
       "<h3>Tags</h3>"
      ],
      "text/plain": [
       "<IPython.core.display.HTML object>"
      ]
     },
     "metadata": {},
     "output_type": "display_data"
    },
    {
     "name": "stdout",
     "output_type": "stream",
     "text": [
      "+------+-------+---------------+----------+\n",
      "|userId|movieId|            tag| timestamp|\n",
      "+------+-------+---------------+----------+\n",
      "|     2|  60756|          funny|1445714994|\n",
      "|     2|  60756|Highly quotable|1445714996|\n",
      "|     2|  60756|   will ferrell|1445714992|\n",
      "+------+-------+---------------+----------+\n",
      "only showing top 3 rows\n",
      "\n"
     ]
    }
   ],
   "source": [
    "display(HTML(\"<h3>Movies</h3>\"))\n",
    "movies.show(3)\n",
    "display(HTML(\"<h3>Ratings</h3>\"))\n",
    "ratings.show(3)\n",
    "display(HTML(\"<h3>Links</h3>\"))\n",
    "links.show(3)\n",
    "display(HTML(\"<h3>Tags</h3>\"))\n",
    "tags.show(3)\n"
   ]
  },
  {
   "cell_type": "markdown",
   "metadata": {},
   "source": [
    "## Sparsity of ratings matrix"
   ]
  },
  {
   "cell_type": "markdown",
   "metadata": {},
   "source": [
    "\\begin{align*}\n",
    "\\text{Sparsity}&=1-\\frac{\\text{Actual number of ratings in matrix}}{\\text{(Number of Users) x (Number of Ratings)}}\n",
    "\\end{align*}"
   ]
  },
  {
   "cell_type": "code",
   "execution_count": 5,
   "metadata": {},
   "outputs": [
    {
     "name": "stdout",
     "output_type": "stream",
     "text": [
      "0.9830003169443864\n"
     ]
    }
   ],
   "source": [
    "numerator=ratings.count()\n",
    "distinct_users=ratings.select('userId').distinct().count()\n",
    "distinct_movies=ratings.select('movieId').distinct().count()\n",
    "denominator=distinct_users*distinct_movies\n",
    "\n",
    "sparsity=1-(numerator*1.0/denominator)\n",
    "\n",
    "print(sparsity)"
   ]
  },
  {
   "cell_type": "markdown",
   "metadata": {},
   "source": [
    "## Splitting data"
   ]
  },
  {
   "cell_type": "code",
   "execution_count": 6,
   "metadata": {},
   "outputs": [],
   "source": [
    "# converting RDD to pyspark.sql.dataframe.DataFrame\n",
    "test=ratings.toDF(*ratings.columns)\n",
    "\n",
    "(train, test) = ratings.randomSplit([0.8, 0.2], seed = 1234)"
   ]
  },
  {
   "cell_type": "markdown",
   "metadata": {},
   "source": [
    "## Creating ALS model"
   ]
  },
  {
   "cell_type": "code",
   "execution_count": 7,
   "metadata": {},
   "outputs": [
    {
     "name": "stdout",
     "output_type": "stream",
     "text": [
      "Num models to be tested:  27\n",
      "--- 560.3325228691101 seconds ---\n"
     ]
    }
   ],
   "source": [
    "import time\n",
    "start_time=time.time()\n",
    "\n",
    "als = ALS(userCol=\"userId\", itemCol=\"movieId\", ratingCol=\"rating\", nonnegative = True, coldStartStrategy=\"drop\")\n",
    "# Add hyperparameters and their respective values to param_grid\n",
    "param_grid = ParamGridBuilder() \\\n",
    "            .addGrid(als.rank, [12,13,14]  ) \\\n",
    "            .addGrid(als.maxIter, [18,19,20]) \\\n",
    "            .addGrid(als.regParam, [.17, .18, .19]) \\\n",
    "            .build()\n",
    "\n",
    "evaluator = RegressionEvaluator(metricName=\"rmse\", labelCol=\"rating\", predictionCol=\"prediction\") \n",
    "print (\"Num models to be tested: \", len(param_grid))\n",
    "\n",
    "cv = CrossValidator(estimator=als, estimatorParamMaps=param_grid, evaluator=evaluator, numFolds=3)\n",
    "\n",
    "train.checkpoint()\n",
    "\n",
    "models=cv.fit(train)\n",
    "best_model=models.bestModel\n",
    "\n",
    "print(\"--- %s seconds ---\" % (time.time() - start_time))"
   ]
  },
  {
   "cell_type": "markdown",
   "metadata": {},
   "source": [
    "## Best Model\n"
   ]
  },
  {
   "cell_type": "code",
   "execution_count": 8,
   "metadata": {},
   "outputs": [
    {
     "name": "stdout",
     "output_type": "stream",
     "text": [
      "14\n",
      "**Best Model**\n",
      "  Rank: 14\n",
      "  MaxIter: 18\n",
      "  RegParam: 0.17\n"
     ]
    }
   ],
   "source": [
    "# Print best_model\n",
    "#print(best_model)\n",
    "print(best_model._java_obj.parent().getRank())\n",
    "\n",
    "# Complete the code below to extract the ALS model parameters\n",
    "print(\"**Best Model**\")\n",
    "\n",
    "\n",
    "# Print \"Rank\"\n",
    "print(\"  Rank:\", best_model._java_obj.parent().getRank())\n",
    "\n",
    "# Print \"MaxIter\"\n",
    "print(\"  MaxIter:\", best_model._java_obj.parent().getMaxIter())\n",
    "\n",
    "# Print \"RegParam\"\n",
    "print(\"  RegParam:\", best_model._java_obj.parent().getRegParam())"
   ]
  },
  {
   "cell_type": "markdown",
   "metadata": {},
   "source": [
    "## Predictions"
   ]
  },
  {
   "cell_type": "code",
   "execution_count": 9,
   "metadata": {},
   "outputs": [
    {
     "name": "stdout",
     "output_type": "stream",
     "text": [
      "0.867480767564069\n"
     ]
    }
   ],
   "source": [
    "predictions=best_model.transform(test)\n",
    "predictions=predictions.na.fill(0)\n",
    "rmse=evaluator.evaluate(predictions)\n",
    "print(rmse)\n"
   ]
  },
  {
   "cell_type": "markdown",
   "metadata": {},
   "source": [
    "## Get Predictions for all users"
   ]
  },
  {
   "cell_type": "code",
   "execution_count": 22,
   "metadata": {},
   "outputs": [],
   "source": [
    "sqlContext=SQLContext(sc)\n",
    "recommendations=best_model.recommendForAllUsers(15)\n",
    "def get_recommendation_for_user(recs):\n",
    "    recs=recs.select(\"recommendations.movieId\",\"recommendations.rating\")\n",
    "    movies=recs.select(\"movieId\").toPandas().iloc[0,0]\n",
    "    ratings=recs.select(\"rating\").toPandas().iloc[0,0]\n",
    "    ratings_matrix=pd.DataFrame(movies,columns=[\"movieId\"])\n",
    "    ratings_matrix[\"ratings\"]=ratings\n",
    "    rating_matrix_ps=sqlContext.createDataFrame(ratings_matrix)\n",
    "    return rating_matrix_ps"
   ]
  },
  {
   "cell_type": "markdown",
   "metadata": {},
   "source": [
    "## Check predictions and Actual values for top 15 movies of user 101"
   ]
  },
  {
   "cell_type": "code",
   "execution_count": 24,
   "metadata": {},
   "outputs": [
    {
     "data": {
      "text/html": [
       "<h3>Actual Ratings for user 101 </h3>"
      ],
      "text/plain": [
       "<IPython.core.display.HTML object>"
      ]
     },
     "metadata": {},
     "output_type": "display_data"
    },
    {
     "name": "stdout",
     "output_type": "stream",
     "text": [
      "+-------+------+--------------------+--------------------+\n",
      "|movieId|rating|               title|              genres|\n",
      "+-------+------+--------------------+--------------------+\n",
      "|   1093|   5.0|   Doors, The (1991)|               Drama|\n",
      "|   2395|   5.0|     Rushmore (1998)|        Comedy|Drama|\n",
      "|   3174|   5.0|Man on the Moon (...|        Comedy|Drama|\n",
      "|   2599|   5.0|     Election (1999)|              Comedy|\n",
      "|   1719|   5.0|Sweet Hereafter, ...|               Drama|\n",
      "|   2712|   5.0|Eyes Wide Shut (1...|Drama|Mystery|Thr...|\n",
      "|   2318|   5.0|    Happiness (1998)|        Comedy|Drama|\n",
      "|   2959|   5.0|   Fight Club (1999)|Action|Crime|Dram...|\n",
      "|   2997|   5.0|Being John Malkov...|Comedy|Drama|Fantasy|\n",
      "|   2692|   4.0|Run Lola Run (Lol...|        Action|Crime|\n",
      "|    223|   4.0|       Clerks (1994)|              Comedy|\n",
      "|   2700|   4.0|South Park: Bigge...|Animation|Comedy|...|\n",
      "|   2706|   4.0| American Pie (1999)|      Comedy|Romance|\n",
      "|   1127|   4.0|   Abyss, The (1989)|Action|Adventure|...|\n",
      "|   2702|   4.0|Summer of Sam (1999)|               Drama|\n",
      "+-------+------+--------------------+--------------------+\n",
      "only showing top 15 rows\n",
      "\n"
     ]
    },
    {
     "data": {
      "text/html": [
       "<h3>Suggestions for user 101 </h3>"
      ],
      "text/plain": [
       "<IPython.core.display.HTML object>"
      ]
     },
     "metadata": {},
     "output_type": "display_data"
    },
    {
     "name": "stdout",
     "output_type": "stream",
     "text": [
      "+-------+------------------+--------------------+--------------------+\n",
      "|movieId|           ratings|               title|              genres|\n",
      "+-------+------------------+--------------------+--------------------+\n",
      "|   3379| 4.955814361572266| On the Beach (1959)|               Drama|\n",
      "|   6533| 4.679059028625488|What's Up, Doc? (...|              Comedy|\n",
      "|   4393| 4.679059028625488|Another Woman (1988)|               Drama|\n",
      "|   3567| 4.653641700744629|   Bossa Nova (2000)|Comedy|Drama|Romance|\n",
      "| 171495|4.6460394859313965|              Cosmos|  (no genres listed)|\n",
      "|   6818|4.6061320304870605|Come and See (Idi...|           Drama|War|\n",
      "|   8405| 4.593552112579346|Hour of the Wolf ...|        Drama|Horror|\n",
      "|   2131| 4.589432239532471|Autumn Sonata (Hö...|               Drama|\n",
      "| 102217| 4.587928771972656|Bill Hicks: Revel...|              Comedy|\n",
      "|  92494| 4.587928771972656|Dylan Moran: Mons...|  Comedy|Documentary|\n",
      "|   7767| 4.583174228668213|Best of Youth, Th...|               Drama|\n",
      "|  86781| 4.580758094787598|    Incendies (2010)|   Drama|Mystery|War|\n",
      "|   2905| 4.575245380401611|Sanjuro (Tsubaki ...|Action|Adventure|...|\n",
      "|  84273| 4.555323600769043|Zeitgeist: Moving...|         Documentary|\n",
      "| 184245| 4.555323600769043|De platte jungle ...|         Documentary|\n",
      "+-------+------------------+--------------------+--------------------+\n",
      "\n"
     ]
    }
   ],
   "source": [
    "display(HTML(\"<h3>Actual Ratings for user 101 </h3>\"))\n",
    "movies.join(ratings,[\"movieId\"],\"left\").filter(ratings.userId==101).sort(\"rating\",ascending=False).select(\"movieId\",\"rating\",\"title\",\"genres\").show(15)\n",
    "\n",
    "display(HTML(\"<h3>Suggestions for user 101 </h3>\"))\n",
    "user_101=get_recommendation_for_user(recommendations.filter(recommendations.userId==101)).sort(\"ratings\",ascending=False)\n",
    "user_101.join(movies,[\"movieId\"],\"left\").show()"
   ]
  },
  {
   "cell_type": "markdown",
   "metadata": {},
   "source": [
    "## Posters"
   ]
  },
  {
   "cell_type": "code",
   "execution_count": 55,
   "metadata": {},
   "outputs": [],
   "source": [
    "user_movies=user_101.join(links,[\"movieId\"],\"left\")"
   ]
  },
  {
   "cell_type": "code",
   "execution_count": 97,
   "metadata": {},
   "outputs": [
    {
     "data": {
      "text/html": [
       "<img style='width: 150px; height: 225px; margin: 5px; float: left; border: 1px solid black;' src='https://m.media-amazon.com/images/M/MV5BMWE3MGYzZjktY2Q5Mi00Y2NiLWIyYWUtMmIyNzA3YmZlMGFhXkEyXkFqcGdeQXVyMTMxODk2OTU@._V1_SX300.jpg' /><img style='width: 150px; height: 225px; margin: 5px; float: left; border: 1px solid black;' src='https://m.media-amazon.com/images/M/MV5BNzc0ODI0MjMwOV5BMl5BanBnXkFtZTcwNTk0MDkyNA@@._V1_SX300.jpg' />"
      ],
      "text/plain": [
       "<IPython.core.display.HTML object>"
      ]
     },
     "metadata": {},
     "output_type": "display_data"
    }
   ],
   "source": [
    "imagesList=\"\"\n",
    "\n",
    "def print_posters(user_movies):\n",
    "    for movie in user_movies.collect():\n",
    "        params={'i':\"tt\"+str(movie.imdbId),'apiKey':'a13a6d6c'}\n",
    "        response=requests.get(url=\"http://www.omdbapi.com/\",params=params)\n",
    "        json_data = json.loads(response.text)\n",
    "        #print(json_data[\"Response\"])\n",
    "        if json_data['Response']!=\"False\":\n",
    "            #plt.figure()\n",
    "            #img=Image(url=json_data['Poster'],width=150,height=225)\n",
    "            imagesList+=\"<img style='width: 150px; height: 225px; margin: 5px; float: left; border: 1px solid black;' src='{}' />\".format(json_data['Poster'])\n",
    "        display(HTML(imagesList))"
   ]
  },
  {
   "cell_type": "code",
   "execution_count": null,
   "metadata": {},
   "outputs": [],
   "source": []
  }
 ],
 "metadata": {
  "kernelspec": {
   "display_name": "Python 3",
   "language": "python",
   "name": "python3"
  },
  "language_info": {
   "codemirror_mode": {
    "name": "ipython",
    "version": 3
   },
   "file_extension": ".py",
   "mimetype": "text/x-python",
   "name": "python",
   "nbconvert_exporter": "python",
   "pygments_lexer": "ipython3",
   "version": "3.6.6"
  },
  "toc": {
   "base_numbering": 1,
   "nav_menu": {},
   "number_sections": true,
   "sideBar": true,
   "skip_h1_title": false,
   "title_cell": "Table of Contents",
   "title_sidebar": "Contents",
   "toc_cell": false,
   "toc_position": {},
   "toc_section_display": true,
   "toc_window_display": true
  }
 },
 "nbformat": 4,
 "nbformat_minor": 2
}
